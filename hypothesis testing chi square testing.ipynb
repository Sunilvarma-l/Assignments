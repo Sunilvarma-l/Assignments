{
 "cells": [
  {
   "cell_type": "code",
   "execution_count": 1,
   "id": "91611bbc",
   "metadata": {},
   "outputs": [],
   "source": [
    "import numpy as np\n",
    "from scipy import stats\n",
    "import pandas as pd"
   ]
  },
  {
   "cell_type": "code",
   "execution_count": 2,
   "id": "d30c6973",
   "metadata": {},
   "outputs": [],
   "source": [
    "#HYPOTHESIS STATEMENT\n",
    "#H0:SAMPLE MEAN WEEKLY COST (X<=3050)\n",
    "#H1:X>3050"
   ]
  },
  {
   "cell_type": "code",
   "execution_count": 3,
   "id": "e016bab0",
   "metadata": {},
   "outputs": [],
   "source": [
    "#CALICULATING TEST STATISTICS (T):"
   ]
  },
  {
   "cell_type": "code",
   "execution_count": 4,
   "id": "1b1c1064",
   "metadata": {},
   "outputs": [],
   "source": [
    "x_bar=3050\n",
    "mu=4000 #(1000+5(x),x=600)\n",
    "std=5*25\n",
    "n=25\n"
   ]
  },
  {
   "cell_type": "code",
   "execution_count": 15,
   "id": "5c6fb20a",
   "metadata": {},
   "outputs": [
    {
     "data": {
      "text/plain": [
       "-38.0"
      ]
     },
     "execution_count": 15,
     "metadata": {},
     "output_type": "execute_result"
    }
   ],
   "source": [
    "t_test=(x_bar-mu)/(std/np.sqrt(n))\n",
    "t_test"
   ]
  },
  {
   "cell_type": "code",
   "execution_count": 17,
   "id": "a8c0071f",
   "metadata": {},
   "outputs": [],
   "source": [
    "#caliculating p_value"
   ]
  },
  {
   "cell_type": "code",
   "execution_count": 18,
   "id": "0fb5aa8f",
   "metadata": {},
   "outputs": [
    {
     "data": {
      "text/plain": [
       "2.9607810808177907e-23"
      ]
     },
     "execution_count": 18,
     "metadata": {},
     "output_type": "execute_result"
    }
   ],
   "source": [
    "stats.t.cdf(-38,24)"
   ]
  },
  {
   "cell_type": "code",
   "execution_count": 21,
   "id": "e24ebab8",
   "metadata": {},
   "outputs": [
    {
     "name": "stdout",
     "output_type": "stream",
     "text": [
      "fail to reject null hypothesis\n"
     ]
    }
   ],
   "source": [
    "p_value=2.9\n",
    "if p_value<=0.05:\n",
    "    print(\"reject null hypothesis\")\n",
    "else:\n",
    "    print(\"fail to reject null hypothesis\")"
   ]
  },
  {
   "cell_type": "code",
   "execution_count": 22,
   "id": "d849f734",
   "metadata": {},
   "outputs": [],
   "source": [
    "#CHI SQUARE TEST"
   ]
  },
  {
   "cell_type": "code",
   "execution_count": 24,
   "id": "f9e3ba5f",
   "metadata": {},
   "outputs": [],
   "source": [
    "#HYPOTHESIS\n",
    "# H0:SMART THERMOSTAT IS INDEPENDENT OF SMART LIGHT \n",
    "#H1:SMART THERMOSTST IS DEPENDENT OF SMART LIGHT"
   ]
  },
  {
   "cell_type": "code",
   "execution_count": 25,
   "id": "4ef662db",
   "metadata": {},
   "outputs": [],
   "source": [
    "#COMPUTING CHI SQUARE STATISTICS\n"
   ]
  },
  {
   "cell_type": "code",
   "execution_count": 28,
   "id": "90daf437",
   "metadata": {},
   "outputs": [
    {
     "name": "stdout",
     "output_type": "stream",
     "text": [
      "p value is 0.22784371130697179\n",
      "independent and fail to reject h0\n"
     ]
    }
   ],
   "source": [
    "d=[[50,70],[80,100],[60,90],[30,50],[20,50]]\n",
    "\n",
    "chi2,p,dof,expected= stats.chi2_contingency(d)\n",
    "alpha=0.05\n",
    "print(\"p value is\",p)\n",
    "if p<alpha:\n",
    "    print(\"dependent and reject ho\")\n",
    "else:\n",
    "    print(\"independent and fail to reject h0\")"
   ]
  },
  {
   "cell_type": "code",
   "execution_count": null,
   "id": "1cb0721e",
   "metadata": {},
   "outputs": [],
   "source": []
  }
 ],
 "metadata": {
  "kernelspec": {
   "display_name": "Python 3 (ipykernel)",
   "language": "python",
   "name": "python3"
  },
  "language_info": {
   "codemirror_mode": {
    "name": "ipython",
    "version": 3
   },
   "file_extension": ".py",
   "mimetype": "text/x-python",
   "name": "python",
   "nbconvert_exporter": "python",
   "pygments_lexer": "ipython3",
   "version": "3.11.3"
  }
 },
 "nbformat": 4,
 "nbformat_minor": 5
}
