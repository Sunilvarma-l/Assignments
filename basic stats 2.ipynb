{
 "cells": [
  {
   "cell_type": "code",
   "execution_count": 18,
   "id": "2afaba62",
   "metadata": {},
   "outputs": [],
   "source": [
    "from scipy import stats\n",
    "import numpy as np\n",
    "import pandas"
   ]
  },
  {
   "cell_type": "code",
   "execution_count": 2,
   "id": "efe43498",
   "metadata": {},
   "outputs": [],
   "source": [
    "#BUILDING 99% CONFIDENTIAL IMTERVAL USING T DISTRIBUTION"
   ]
  },
  {
   "cell_type": "code",
   "execution_count": 15,
   "id": "99a459e8",
   "metadata": {},
   "outputs": [],
   "source": [
    "#RECORDS OF 15 PRINT-HEADS"
   ]
  },
  {
   "cell_type": "code",
   "execution_count": 19,
   "id": "ab0913dd",
   "metadata": {},
   "outputs": [
    {
     "name": "stdout",
     "output_type": "stream",
     "text": [
      "1.2386666666666666\n"
     ]
    }
   ],
   "source": [
    "x=([1.13,1.55,1.43,0.92,1.25,1.36,1.32,0.85,1.07,1.48,1.20,1.33,1.18,1.22,1.29])\n",
    "print(np.mean(x))"
   ]
  },
  {
   "cell_type": "code",
   "execution_count": 20,
   "id": "9a949579",
   "metadata": {},
   "outputs": [
    {
     "name": "stdout",
     "output_type": "stream",
     "text": [
      "0.18661427836285438\n"
     ]
    }
   ],
   "source": [
    "print(np.std(x))"
   ]
  },
  {
   "cell_type": "code",
   "execution_count": 21,
   "id": "602dc099",
   "metadata": {},
   "outputs": [],
   "source": [
    "#99% CONFIDENTIAL INTERVAL"
   ]
  },
  {
   "cell_type": "code",
   "execution_count": 22,
   "id": "2bb81fb5",
   "metadata": {},
   "outputs": [
    {
     "data": {
      "text/plain": [
       "2.97684273411266"
      ]
     },
     "execution_count": 22,
     "metadata": {},
     "output_type": "execute_result"
    }
   ],
   "source": [
    "stats.t.ppf(0.995,14)"
   ]
  },
  {
   "cell_type": "code",
   "execution_count": 29,
   "id": "efd34173",
   "metadata": {},
   "outputs": [
    {
     "data": {
      "text/plain": [
       "1.3680331264588323"
      ]
     },
     "execution_count": 29,
     "metadata": {},
     "output_type": "execute_result"
    }
   ],
   "source": [
    "x_bar=1.23\n",
    "std=0.18\n",
    "n=15\n",
    "t=2.97\n",
    "right=x_bar+(t*std)/np.sqrt(n)\n",
    "right\n"
   ]
  },
  {
   "cell_type": "code",
   "execution_count": 31,
   "id": "d1056976",
   "metadata": {},
   "outputs": [
    {
     "data": {
      "text/plain": [
       "1.0919668735411676"
      ]
     },
     "execution_count": 31,
     "metadata": {},
     "output_type": "execute_result"
    }
   ],
   "source": [
    "left=x_bar-(t*std)/np.sqrt(n)\n",
    "left"
   ]
  },
  {
   "cell_type": "code",
   "execution_count": 32,
   "id": "3dbb860c",
   "metadata": {},
   "outputs": [],
   "source": [
    "#99% of confidential interval is(1.09  1.36)"
   ]
  },
  {
   "cell_type": "code",
   "execution_count": 33,
   "id": "62823eb4",
   "metadata": {},
   "outputs": [],
   "source": [
    "#calculating 99% confidential interval using known population standard deviation"
   ]
  },
  {
   "cell_type": "code",
   "execution_count": 34,
   "id": "875a263b",
   "metadata": {},
   "outputs": [
    {
     "data": {
      "text/plain": [
       "2.5758293035489004"
      ]
     },
     "execution_count": 34,
     "metadata": {},
     "output_type": "execute_result"
    }
   ],
   "source": [
    "stats.norm.ppf(0.995,0,1)"
   ]
  },
  {
   "cell_type": "code",
   "execution_count": 38,
   "id": "a4598e4d",
   "metadata": {},
   "outputs": [
    {
     "data": {
      "text/plain": [
       "1.3627142293300407"
      ]
     },
     "execution_count": 38,
     "metadata": {},
     "output_type": "execute_result"
    }
   ],
   "source": [
    "x_bar=1.23\n",
    "z=2.57\n",
    "std=0.2\n",
    "n=15\n",
    "right=x_bar+(z*std)/np.sqrt(n)\n",
    "right"
   ]
  },
  {
   "cell_type": "code",
   "execution_count": 40,
   "id": "02f51628",
   "metadata": {},
   "outputs": [
    {
     "data": {
      "text/plain": [
       "1.0972857706699592"
      ]
     },
     "execution_count": 40,
     "metadata": {},
     "output_type": "execute_result"
    }
   ],
   "source": [
    "left=x_bar-(z*std)/np.sqrt(n)\n",
    "left"
   ]
  },
  {
   "cell_type": "code",
   "execution_count": 41,
   "id": "bc9374c0",
   "metadata": {},
   "outputs": [],
   "source": [
    "#99%confidential interval is(1.09,1.36)"
   ]
  },
  {
   "cell_type": "code",
   "execution_count": null,
   "id": "92d83749",
   "metadata": {},
   "outputs": [],
   "source": []
  }
 ],
 "metadata": {
  "kernelspec": {
   "display_name": "Python 3 (ipykernel)",
   "language": "python",
   "name": "python3"
  },
  "language_info": {
   "codemirror_mode": {
    "name": "ipython",
    "version": 3
   },
   "file_extension": ".py",
   "mimetype": "text/x-python",
   "name": "python",
   "nbconvert_exporter": "python",
   "pygments_lexer": "ipython3",
   "version": "3.11.3"
  }
 },
 "nbformat": 4,
 "nbformat_minor": 5
}
