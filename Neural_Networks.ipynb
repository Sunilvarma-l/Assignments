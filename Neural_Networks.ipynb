{
 "cells": [
  {
   "cell_type": "code",
   "execution_count": 2,
   "id": "d454b13f",
   "metadata": {
    "colab": {
     "base_uri": "https://localhost:8080/",
     "height": 423
    },
    "id": "d454b13f",
    "outputId": "7971b9e9-2140-427e-aa58-bdfb8e6ad334"
   },
   "outputs": [
    {
     "data": {
      "text/html": [
       "<div>\n",
       "<style scoped>\n",
       "    .dataframe tbody tr th:only-of-type {\n",
       "        vertical-align: middle;\n",
       "    }\n",
       "\n",
       "    .dataframe tbody tr th {\n",
       "        vertical-align: top;\n",
       "    }\n",
       "\n",
       "    .dataframe thead th {\n",
       "        text-align: right;\n",
       "    }\n",
       "</style>\n",
       "<table border=\"1\" class=\"dataframe\">\n",
       "  <thead>\n",
       "    <tr style=\"text-align: right;\">\n",
       "      <th></th>\n",
       "      <th>letter</th>\n",
       "      <th>xbox</th>\n",
       "      <th>ybox</th>\n",
       "      <th>width</th>\n",
       "      <th>height</th>\n",
       "      <th>onpix</th>\n",
       "      <th>xbar</th>\n",
       "      <th>ybar</th>\n",
       "      <th>x2bar</th>\n",
       "      <th>y2bar</th>\n",
       "      <th>xybar</th>\n",
       "      <th>x2ybar</th>\n",
       "      <th>xy2bar</th>\n",
       "      <th>xedge</th>\n",
       "      <th>xedgey</th>\n",
       "      <th>yedge</th>\n",
       "      <th>yedgex</th>\n",
       "    </tr>\n",
       "  </thead>\n",
       "  <tbody>\n",
       "    <tr>\n",
       "      <th>0</th>\n",
       "      <td>T</td>\n",
       "      <td>2</td>\n",
       "      <td>8</td>\n",
       "      <td>3</td>\n",
       "      <td>5</td>\n",
       "      <td>1</td>\n",
       "      <td>8</td>\n",
       "      <td>13</td>\n",
       "      <td>0</td>\n",
       "      <td>6</td>\n",
       "      <td>6</td>\n",
       "      <td>10</td>\n",
       "      <td>8</td>\n",
       "      <td>0</td>\n",
       "      <td>8</td>\n",
       "      <td>0</td>\n",
       "      <td>8</td>\n",
       "    </tr>\n",
       "    <tr>\n",
       "      <th>1</th>\n",
       "      <td>I</td>\n",
       "      <td>5</td>\n",
       "      <td>12</td>\n",
       "      <td>3</td>\n",
       "      <td>7</td>\n",
       "      <td>2</td>\n",
       "      <td>10</td>\n",
       "      <td>5</td>\n",
       "      <td>5</td>\n",
       "      <td>4</td>\n",
       "      <td>13</td>\n",
       "      <td>3</td>\n",
       "      <td>9</td>\n",
       "      <td>2</td>\n",
       "      <td>8</td>\n",
       "      <td>4</td>\n",
       "      <td>10</td>\n",
       "    </tr>\n",
       "    <tr>\n",
       "      <th>2</th>\n",
       "      <td>D</td>\n",
       "      <td>4</td>\n",
       "      <td>11</td>\n",
       "      <td>6</td>\n",
       "      <td>8</td>\n",
       "      <td>6</td>\n",
       "      <td>10</td>\n",
       "      <td>6</td>\n",
       "      <td>2</td>\n",
       "      <td>6</td>\n",
       "      <td>10</td>\n",
       "      <td>3</td>\n",
       "      <td>7</td>\n",
       "      <td>3</td>\n",
       "      <td>7</td>\n",
       "      <td>3</td>\n",
       "      <td>9</td>\n",
       "    </tr>\n",
       "    <tr>\n",
       "      <th>3</th>\n",
       "      <td>N</td>\n",
       "      <td>7</td>\n",
       "      <td>11</td>\n",
       "      <td>6</td>\n",
       "      <td>6</td>\n",
       "      <td>3</td>\n",
       "      <td>5</td>\n",
       "      <td>9</td>\n",
       "      <td>4</td>\n",
       "      <td>6</td>\n",
       "      <td>4</td>\n",
       "      <td>4</td>\n",
       "      <td>10</td>\n",
       "      <td>6</td>\n",
       "      <td>10</td>\n",
       "      <td>2</td>\n",
       "      <td>8</td>\n",
       "    </tr>\n",
       "    <tr>\n",
       "      <th>4</th>\n",
       "      <td>G</td>\n",
       "      <td>2</td>\n",
       "      <td>1</td>\n",
       "      <td>3</td>\n",
       "      <td>1</td>\n",
       "      <td>1</td>\n",
       "      <td>8</td>\n",
       "      <td>6</td>\n",
       "      <td>6</td>\n",
       "      <td>6</td>\n",
       "      <td>6</td>\n",
       "      <td>5</td>\n",
       "      <td>9</td>\n",
       "      <td>1</td>\n",
       "      <td>7</td>\n",
       "      <td>5</td>\n",
       "      <td>10</td>\n",
       "    </tr>\n",
       "    <tr>\n",
       "      <th>...</th>\n",
       "      <td>...</td>\n",
       "      <td>...</td>\n",
       "      <td>...</td>\n",
       "      <td>...</td>\n",
       "      <td>...</td>\n",
       "      <td>...</td>\n",
       "      <td>...</td>\n",
       "      <td>...</td>\n",
       "      <td>...</td>\n",
       "      <td>...</td>\n",
       "      <td>...</td>\n",
       "      <td>...</td>\n",
       "      <td>...</td>\n",
       "      <td>...</td>\n",
       "      <td>...</td>\n",
       "      <td>...</td>\n",
       "      <td>...</td>\n",
       "    </tr>\n",
       "    <tr>\n",
       "      <th>19995</th>\n",
       "      <td>D</td>\n",
       "      <td>2</td>\n",
       "      <td>2</td>\n",
       "      <td>3</td>\n",
       "      <td>3</td>\n",
       "      <td>2</td>\n",
       "      <td>7</td>\n",
       "      <td>7</td>\n",
       "      <td>7</td>\n",
       "      <td>6</td>\n",
       "      <td>6</td>\n",
       "      <td>6</td>\n",
       "      <td>4</td>\n",
       "      <td>2</td>\n",
       "      <td>8</td>\n",
       "      <td>3</td>\n",
       "      <td>7</td>\n",
       "    </tr>\n",
       "    <tr>\n",
       "      <th>19996</th>\n",
       "      <td>C</td>\n",
       "      <td>7</td>\n",
       "      <td>10</td>\n",
       "      <td>8</td>\n",
       "      <td>8</td>\n",
       "      <td>4</td>\n",
       "      <td>4</td>\n",
       "      <td>8</td>\n",
       "      <td>6</td>\n",
       "      <td>9</td>\n",
       "      <td>12</td>\n",
       "      <td>9</td>\n",
       "      <td>13</td>\n",
       "      <td>2</td>\n",
       "      <td>9</td>\n",
       "      <td>3</td>\n",
       "      <td>7</td>\n",
       "    </tr>\n",
       "    <tr>\n",
       "      <th>19997</th>\n",
       "      <td>T</td>\n",
       "      <td>6</td>\n",
       "      <td>9</td>\n",
       "      <td>6</td>\n",
       "      <td>7</td>\n",
       "      <td>5</td>\n",
       "      <td>6</td>\n",
       "      <td>11</td>\n",
       "      <td>3</td>\n",
       "      <td>7</td>\n",
       "      <td>11</td>\n",
       "      <td>9</td>\n",
       "      <td>5</td>\n",
       "      <td>2</td>\n",
       "      <td>12</td>\n",
       "      <td>2</td>\n",
       "      <td>4</td>\n",
       "    </tr>\n",
       "    <tr>\n",
       "      <th>19998</th>\n",
       "      <td>S</td>\n",
       "      <td>2</td>\n",
       "      <td>3</td>\n",
       "      <td>4</td>\n",
       "      <td>2</td>\n",
       "      <td>1</td>\n",
       "      <td>8</td>\n",
       "      <td>7</td>\n",
       "      <td>2</td>\n",
       "      <td>6</td>\n",
       "      <td>10</td>\n",
       "      <td>6</td>\n",
       "      <td>8</td>\n",
       "      <td>1</td>\n",
       "      <td>9</td>\n",
       "      <td>5</td>\n",
       "      <td>8</td>\n",
       "    </tr>\n",
       "    <tr>\n",
       "      <th>19999</th>\n",
       "      <td>A</td>\n",
       "      <td>4</td>\n",
       "      <td>9</td>\n",
       "      <td>6</td>\n",
       "      <td>6</td>\n",
       "      <td>2</td>\n",
       "      <td>9</td>\n",
       "      <td>5</td>\n",
       "      <td>3</td>\n",
       "      <td>1</td>\n",
       "      <td>8</td>\n",
       "      <td>1</td>\n",
       "      <td>8</td>\n",
       "      <td>2</td>\n",
       "      <td>7</td>\n",
       "      <td>2</td>\n",
       "      <td>8</td>\n",
       "    </tr>\n",
       "  </tbody>\n",
       "</table>\n",
       "<p>20000 rows × 17 columns</p>\n",
       "</div>"
      ],
      "text/plain": [
       "      letter  xbox  ybox  width  height  onpix  xbar  ybar  x2bar  y2bar  \\\n",
       "0          T     2     8      3       5      1     8    13      0      6   \n",
       "1          I     5    12      3       7      2    10     5      5      4   \n",
       "2          D     4    11      6       8      6    10     6      2      6   \n",
       "3          N     7    11      6       6      3     5     9      4      6   \n",
       "4          G     2     1      3       1      1     8     6      6      6   \n",
       "...      ...   ...   ...    ...     ...    ...   ...   ...    ...    ...   \n",
       "19995      D     2     2      3       3      2     7     7      7      6   \n",
       "19996      C     7    10      8       8      4     4     8      6      9   \n",
       "19997      T     6     9      6       7      5     6    11      3      7   \n",
       "19998      S     2     3      4       2      1     8     7      2      6   \n",
       "19999      A     4     9      6       6      2     9     5      3      1   \n",
       "\n",
       "       xybar  x2ybar  xy2bar  xedge  xedgey  yedge  yedgex  \n",
       "0          6      10       8      0       8      0       8  \n",
       "1         13       3       9      2       8      4      10  \n",
       "2         10       3       7      3       7      3       9  \n",
       "3          4       4      10      6      10      2       8  \n",
       "4          6       5       9      1       7      5      10  \n",
       "...      ...     ...     ...    ...     ...    ...     ...  \n",
       "19995      6       6       4      2       8      3       7  \n",
       "19996     12       9      13      2       9      3       7  \n",
       "19997     11       9       5      2      12      2       4  \n",
       "19998     10       6       8      1       9      5       8  \n",
       "19999      8       1       8      2       7      2       8  \n",
       "\n",
       "[20000 rows x 17 columns]"
      ]
     },
     "execution_count": 2,
     "metadata": {},
     "output_type": "execute_result"
    }
   ],
   "source": [
    "import pandas as pd\n",
    "data = pd.read_csv(r'C:\\Users\\OM\\Downloads\\Neural networks\\Alphabets_data.csv')\n",
    "data"
   ]
  },
  {
   "cell_type": "code",
   "execution_count": 3,
   "id": "0c1f7548",
   "metadata": {
    "colab": {
     "base_uri": "https://localhost:8080/"
    },
    "id": "0c1f7548",
    "outputId": "2186dd1a-2af3-475e-dd21-5316372cf553"
   },
   "outputs": [
    {
     "name": "stdout",
     "output_type": "stream",
     "text": [
      "<class 'pandas.core.frame.DataFrame'>\n",
      "RangeIndex: 20000 entries, 0 to 19999\n",
      "Data columns (total 17 columns):\n",
      " #   Column  Non-Null Count  Dtype \n",
      "---  ------  --------------  ----- \n",
      " 0   letter  20000 non-null  object\n",
      " 1   xbox    20000 non-null  int64 \n",
      " 2   ybox    20000 non-null  int64 \n",
      " 3   width   20000 non-null  int64 \n",
      " 4   height  20000 non-null  int64 \n",
      " 5   onpix   20000 non-null  int64 \n",
      " 6   xbar    20000 non-null  int64 \n",
      " 7   ybar    20000 non-null  int64 \n",
      " 8   x2bar   20000 non-null  int64 \n",
      " 9   y2bar   20000 non-null  int64 \n",
      " 10  xybar   20000 non-null  int64 \n",
      " 11  x2ybar  20000 non-null  int64 \n",
      " 12  xy2bar  20000 non-null  int64 \n",
      " 13  xedge   20000 non-null  int64 \n",
      " 14  xedgey  20000 non-null  int64 \n",
      " 15  yedge   20000 non-null  int64 \n",
      " 16  yedgex  20000 non-null  int64 \n",
      "dtypes: int64(16), object(1)\n",
      "memory usage: 2.6+ MB\n"
     ]
    }
   ],
   "source": [
    "data.info()"
   ]
  },
  {
   "cell_type": "code",
   "execution_count": 4,
   "id": "e1e12ecc",
   "metadata": {
    "colab": {
     "base_uri": "https://localhost:8080/"
    },
    "id": "e1e12ecc",
    "outputId": "09f964c6-1acb-4642-d194-25b4b4a7259f"
   },
   "outputs": [
    {
     "data": {
      "text/plain": [
       "26"
      ]
     },
     "execution_count": 4,
     "metadata": {},
     "output_type": "execute_result"
    }
   ],
   "source": [
    "a = data['letter'].unique()\n",
    "len(a)"
   ]
  },
  {
   "cell_type": "code",
   "execution_count": 5,
   "id": "bb2bfd8a",
   "metadata": {
    "colab": {
     "base_uri": "https://localhost:8080/"
    },
    "id": "bb2bfd8a",
    "outputId": "2c5c3190-348f-41b3-f7e7-873aa7238e0b"
   },
   "outputs": [
    {
     "data": {
      "text/plain": [
       "numpy.ndarray"
      ]
     },
     "execution_count": 5,
     "metadata": {},
     "output_type": "execute_result"
    }
   ],
   "source": [
    "type(a)"
   ]
  },
  {
   "cell_type": "code",
   "execution_count": 6,
   "id": "ce79f92d",
   "metadata": {
    "colab": {
     "base_uri": "https://localhost:8080/",
     "height": 617
    },
    "id": "ce79f92d",
    "outputId": "f04d6989-3ad8-486d-afd8-a87baac0af8e"
   },
   "outputs": [
    {
     "data": {
      "text/plain": [
       "letter    0\n",
       "xbox      0\n",
       "ybox      0\n",
       "width     0\n",
       "height    0\n",
       "onpix     0\n",
       "xbar      0\n",
       "ybar      0\n",
       "x2bar     0\n",
       "y2bar     0\n",
       "xybar     0\n",
       "x2ybar    0\n",
       "xy2bar    0\n",
       "xedge     0\n",
       "xedgey    0\n",
       "yedge     0\n",
       "yedgex    0\n",
       "dtype: int64"
      ]
     },
     "execution_count": 6,
     "metadata": {},
     "output_type": "execute_result"
    }
   ],
   "source": [
    "data.isnull().sum()"
   ]
  },
  {
   "cell_type": "code",
   "execution_count": 7,
   "id": "b102684c",
   "metadata": {
    "colab": {
     "base_uri": "https://localhost:8080/"
    },
    "id": "b102684c",
    "outputId": "4921f319-73e0-440f-dd21-1cb151af01e4"
   },
   "outputs": [
    {
     "data": {
      "text/plain": [
       "1332"
      ]
     },
     "execution_count": 7,
     "metadata": {},
     "output_type": "execute_result"
    }
   ],
   "source": [
    "#to check duplicate data\n",
    "data.duplicated().sum()"
   ]
  },
  {
   "cell_type": "code",
   "execution_count": 8,
   "id": "d219fb99",
   "metadata": {
    "id": "d219fb99"
   },
   "outputs": [],
   "source": [
    "#removing duplicate data\n",
    "data = data.drop_duplicates()"
   ]
  },
  {
   "cell_type": "code",
   "execution_count": 9,
   "id": "77a08cdf",
   "metadata": {
    "id": "77a08cdf"
   },
   "outputs": [],
   "source": [
    "#scaling of data"
   ]
  },
  {
   "cell_type": "code",
   "execution_count": 10,
   "id": "dd511bba",
   "metadata": {
    "id": "dd511bba"
   },
   "outputs": [],
   "source": [
    "x = data.iloc[:,1:]\n",
    "y = data.iloc[:,0]"
   ]
  },
  {
   "cell_type": "code",
   "execution_count": 11,
   "id": "6d707882",
   "metadata": {
    "id": "6d707882"
   },
   "outputs": [],
   "source": [
    "from sklearn.preprocessing import StandardScaler\n",
    "scaled_x = StandardScaler()\n",
    "scaled_x = scaled_x.fit_transform(x)"
   ]
  },
  {
   "cell_type": "code",
   "execution_count": 12,
   "id": "371722b7",
   "metadata": {
    "colab": {
     "base_uri": "https://localhost:8080/"
    },
    "id": "371722b7",
    "outputId": "a7b4ca0c-7031-4d3d-d1c9-de4a7d95e75c"
   },
   "outputs": [
    {
     "data": {
      "text/plain": [
       "array([[-1.14441743,  0.23706997, -1.17829391, ..., -0.22341228,\n",
       "        -1.4947118 ,  0.13009585],\n",
       "       [ 0.45185548,  1.49194265, -1.17829391, ..., -0.22341228,\n",
       "         0.07996539,  1.33686814],\n",
       "       [-0.08023549,  1.17822448,  0.37216713, ..., -0.8584093 ,\n",
       "        -0.3137039 ,  0.73348199],\n",
       "       ...,\n",
       "       [ 1.51603743,  0.86450631,  1.40580782, ...,  0.41158474,\n",
       "        -0.3137039 , -0.4732903 ],\n",
       "       [ 0.98394646,  0.55078814,  0.37216713, ...,  2.3165758 ,\n",
       "        -0.7073732 , -2.28344875],\n",
       "       [-0.08023549,  0.55078814,  0.37216713, ..., -0.8584093 ,\n",
       "        -0.7073732 ,  0.13009585]])"
      ]
     },
     "execution_count": 12,
     "metadata": {},
     "output_type": "execute_result"
    }
   ],
   "source": [
    "scaled_x"
   ]
  },
  {
   "cell_type": "markdown",
   "id": "736ea6fe",
   "metadata": {
    "id": "736ea6fe"
   },
   "source": [
    "# one hot encoding for categorical"
   ]
  },
  {
   "cell_type": "code",
   "execution_count": 13,
   "id": "7ee7d73b",
   "metadata": {
    "id": "7ee7d73b"
   },
   "outputs": [],
   "source": [
    "encoded_y = pd.get_dummies(y)"
   ]
  },
  {
   "cell_type": "code",
   "execution_count": 14,
   "id": "dd3ee4a3",
   "metadata": {
    "colab": {
     "base_uri": "https://localhost:8080/",
     "height": 423
    },
    "id": "dd3ee4a3",
    "outputId": "ab20ee0a-edc4-4973-d304-9988d694d2b3"
   },
   "outputs": [
    {
     "data": {
      "text/html": [
       "<div>\n",
       "<style scoped>\n",
       "    .dataframe tbody tr th:only-of-type {\n",
       "        vertical-align: middle;\n",
       "    }\n",
       "\n",
       "    .dataframe tbody tr th {\n",
       "        vertical-align: top;\n",
       "    }\n",
       "\n",
       "    .dataframe thead th {\n",
       "        text-align: right;\n",
       "    }\n",
       "</style>\n",
       "<table border=\"1\" class=\"dataframe\">\n",
       "  <thead>\n",
       "    <tr style=\"text-align: right;\">\n",
       "      <th></th>\n",
       "      <th>A</th>\n",
       "      <th>B</th>\n",
       "      <th>C</th>\n",
       "      <th>D</th>\n",
       "      <th>E</th>\n",
       "      <th>F</th>\n",
       "      <th>G</th>\n",
       "      <th>H</th>\n",
       "      <th>I</th>\n",
       "      <th>J</th>\n",
       "      <th>...</th>\n",
       "      <th>Q</th>\n",
       "      <th>R</th>\n",
       "      <th>S</th>\n",
       "      <th>T</th>\n",
       "      <th>U</th>\n",
       "      <th>V</th>\n",
       "      <th>W</th>\n",
       "      <th>X</th>\n",
       "      <th>Y</th>\n",
       "      <th>Z</th>\n",
       "    </tr>\n",
       "  </thead>\n",
       "  <tbody>\n",
       "    <tr>\n",
       "      <th>0</th>\n",
       "      <td>0</td>\n",
       "      <td>0</td>\n",
       "      <td>0</td>\n",
       "      <td>0</td>\n",
       "      <td>0</td>\n",
       "      <td>0</td>\n",
       "      <td>0</td>\n",
       "      <td>0</td>\n",
       "      <td>0</td>\n",
       "      <td>0</td>\n",
       "      <td>...</td>\n",
       "      <td>0</td>\n",
       "      <td>0</td>\n",
       "      <td>0</td>\n",
       "      <td>1</td>\n",
       "      <td>0</td>\n",
       "      <td>0</td>\n",
       "      <td>0</td>\n",
       "      <td>0</td>\n",
       "      <td>0</td>\n",
       "      <td>0</td>\n",
       "    </tr>\n",
       "    <tr>\n",
       "      <th>1</th>\n",
       "      <td>0</td>\n",
       "      <td>0</td>\n",
       "      <td>0</td>\n",
       "      <td>0</td>\n",
       "      <td>0</td>\n",
       "      <td>0</td>\n",
       "      <td>0</td>\n",
       "      <td>0</td>\n",
       "      <td>1</td>\n",
       "      <td>0</td>\n",
       "      <td>...</td>\n",
       "      <td>0</td>\n",
       "      <td>0</td>\n",
       "      <td>0</td>\n",
       "      <td>0</td>\n",
       "      <td>0</td>\n",
       "      <td>0</td>\n",
       "      <td>0</td>\n",
       "      <td>0</td>\n",
       "      <td>0</td>\n",
       "      <td>0</td>\n",
       "    </tr>\n",
       "    <tr>\n",
       "      <th>2</th>\n",
       "      <td>0</td>\n",
       "      <td>0</td>\n",
       "      <td>0</td>\n",
       "      <td>1</td>\n",
       "      <td>0</td>\n",
       "      <td>0</td>\n",
       "      <td>0</td>\n",
       "      <td>0</td>\n",
       "      <td>0</td>\n",
       "      <td>0</td>\n",
       "      <td>...</td>\n",
       "      <td>0</td>\n",
       "      <td>0</td>\n",
       "      <td>0</td>\n",
       "      <td>0</td>\n",
       "      <td>0</td>\n",
       "      <td>0</td>\n",
       "      <td>0</td>\n",
       "      <td>0</td>\n",
       "      <td>0</td>\n",
       "      <td>0</td>\n",
       "    </tr>\n",
       "    <tr>\n",
       "      <th>3</th>\n",
       "      <td>0</td>\n",
       "      <td>0</td>\n",
       "      <td>0</td>\n",
       "      <td>0</td>\n",
       "      <td>0</td>\n",
       "      <td>0</td>\n",
       "      <td>0</td>\n",
       "      <td>0</td>\n",
       "      <td>0</td>\n",
       "      <td>0</td>\n",
       "      <td>...</td>\n",
       "      <td>0</td>\n",
       "      <td>0</td>\n",
       "      <td>0</td>\n",
       "      <td>0</td>\n",
       "      <td>0</td>\n",
       "      <td>0</td>\n",
       "      <td>0</td>\n",
       "      <td>0</td>\n",
       "      <td>0</td>\n",
       "      <td>0</td>\n",
       "    </tr>\n",
       "    <tr>\n",
       "      <th>4</th>\n",
       "      <td>0</td>\n",
       "      <td>0</td>\n",
       "      <td>0</td>\n",
       "      <td>0</td>\n",
       "      <td>0</td>\n",
       "      <td>0</td>\n",
       "      <td>1</td>\n",
       "      <td>0</td>\n",
       "      <td>0</td>\n",
       "      <td>0</td>\n",
       "      <td>...</td>\n",
       "      <td>0</td>\n",
       "      <td>0</td>\n",
       "      <td>0</td>\n",
       "      <td>0</td>\n",
       "      <td>0</td>\n",
       "      <td>0</td>\n",
       "      <td>0</td>\n",
       "      <td>0</td>\n",
       "      <td>0</td>\n",
       "      <td>0</td>\n",
       "    </tr>\n",
       "    <tr>\n",
       "      <th>...</th>\n",
       "      <td>...</td>\n",
       "      <td>...</td>\n",
       "      <td>...</td>\n",
       "      <td>...</td>\n",
       "      <td>...</td>\n",
       "      <td>...</td>\n",
       "      <td>...</td>\n",
       "      <td>...</td>\n",
       "      <td>...</td>\n",
       "      <td>...</td>\n",
       "      <td>...</td>\n",
       "      <td>...</td>\n",
       "      <td>...</td>\n",
       "      <td>...</td>\n",
       "      <td>...</td>\n",
       "      <td>...</td>\n",
       "      <td>...</td>\n",
       "      <td>...</td>\n",
       "      <td>...</td>\n",
       "      <td>...</td>\n",
       "      <td>...</td>\n",
       "    </tr>\n",
       "    <tr>\n",
       "      <th>19994</th>\n",
       "      <td>0</td>\n",
       "      <td>0</td>\n",
       "      <td>0</td>\n",
       "      <td>0</td>\n",
       "      <td>0</td>\n",
       "      <td>0</td>\n",
       "      <td>0</td>\n",
       "      <td>0</td>\n",
       "      <td>0</td>\n",
       "      <td>0</td>\n",
       "      <td>...</td>\n",
       "      <td>0</td>\n",
       "      <td>0</td>\n",
       "      <td>0</td>\n",
       "      <td>1</td>\n",
       "      <td>0</td>\n",
       "      <td>0</td>\n",
       "      <td>0</td>\n",
       "      <td>0</td>\n",
       "      <td>0</td>\n",
       "      <td>0</td>\n",
       "    </tr>\n",
       "    <tr>\n",
       "      <th>19995</th>\n",
       "      <td>0</td>\n",
       "      <td>0</td>\n",
       "      <td>0</td>\n",
       "      <td>1</td>\n",
       "      <td>0</td>\n",
       "      <td>0</td>\n",
       "      <td>0</td>\n",
       "      <td>0</td>\n",
       "      <td>0</td>\n",
       "      <td>0</td>\n",
       "      <td>...</td>\n",
       "      <td>0</td>\n",
       "      <td>0</td>\n",
       "      <td>0</td>\n",
       "      <td>0</td>\n",
       "      <td>0</td>\n",
       "      <td>0</td>\n",
       "      <td>0</td>\n",
       "      <td>0</td>\n",
       "      <td>0</td>\n",
       "      <td>0</td>\n",
       "    </tr>\n",
       "    <tr>\n",
       "      <th>19996</th>\n",
       "      <td>0</td>\n",
       "      <td>0</td>\n",
       "      <td>1</td>\n",
       "      <td>0</td>\n",
       "      <td>0</td>\n",
       "      <td>0</td>\n",
       "      <td>0</td>\n",
       "      <td>0</td>\n",
       "      <td>0</td>\n",
       "      <td>0</td>\n",
       "      <td>...</td>\n",
       "      <td>0</td>\n",
       "      <td>0</td>\n",
       "      <td>0</td>\n",
       "      <td>0</td>\n",
       "      <td>0</td>\n",
       "      <td>0</td>\n",
       "      <td>0</td>\n",
       "      <td>0</td>\n",
       "      <td>0</td>\n",
       "      <td>0</td>\n",
       "    </tr>\n",
       "    <tr>\n",
       "      <th>19997</th>\n",
       "      <td>0</td>\n",
       "      <td>0</td>\n",
       "      <td>0</td>\n",
       "      <td>0</td>\n",
       "      <td>0</td>\n",
       "      <td>0</td>\n",
       "      <td>0</td>\n",
       "      <td>0</td>\n",
       "      <td>0</td>\n",
       "      <td>0</td>\n",
       "      <td>...</td>\n",
       "      <td>0</td>\n",
       "      <td>0</td>\n",
       "      <td>0</td>\n",
       "      <td>1</td>\n",
       "      <td>0</td>\n",
       "      <td>0</td>\n",
       "      <td>0</td>\n",
       "      <td>0</td>\n",
       "      <td>0</td>\n",
       "      <td>0</td>\n",
       "    </tr>\n",
       "    <tr>\n",
       "      <th>19999</th>\n",
       "      <td>1</td>\n",
       "      <td>0</td>\n",
       "      <td>0</td>\n",
       "      <td>0</td>\n",
       "      <td>0</td>\n",
       "      <td>0</td>\n",
       "      <td>0</td>\n",
       "      <td>0</td>\n",
       "      <td>0</td>\n",
       "      <td>0</td>\n",
       "      <td>...</td>\n",
       "      <td>0</td>\n",
       "      <td>0</td>\n",
       "      <td>0</td>\n",
       "      <td>0</td>\n",
       "      <td>0</td>\n",
       "      <td>0</td>\n",
       "      <td>0</td>\n",
       "      <td>0</td>\n",
       "      <td>0</td>\n",
       "      <td>0</td>\n",
       "    </tr>\n",
       "  </tbody>\n",
       "</table>\n",
       "<p>18668 rows × 26 columns</p>\n",
       "</div>"
      ],
      "text/plain": [
       "       A  B  C  D  E  F  G  H  I  J  ...  Q  R  S  T  U  V  W  X  Y  Z\n",
       "0      0  0  0  0  0  0  0  0  0  0  ...  0  0  0  1  0  0  0  0  0  0\n",
       "1      0  0  0  0  0  0  0  0  1  0  ...  0  0  0  0  0  0  0  0  0  0\n",
       "2      0  0  0  1  0  0  0  0  0  0  ...  0  0  0  0  0  0  0  0  0  0\n",
       "3      0  0  0  0  0  0  0  0  0  0  ...  0  0  0  0  0  0  0  0  0  0\n",
       "4      0  0  0  0  0  0  1  0  0  0  ...  0  0  0  0  0  0  0  0  0  0\n",
       "...   .. .. .. .. .. .. .. .. .. ..  ... .. .. .. .. .. .. .. .. .. ..\n",
       "19994  0  0  0  0  0  0  0  0  0  0  ...  0  0  0  1  0  0  0  0  0  0\n",
       "19995  0  0  0  1  0  0  0  0  0  0  ...  0  0  0  0  0  0  0  0  0  0\n",
       "19996  0  0  1  0  0  0  0  0  0  0  ...  0  0  0  0  0  0  0  0  0  0\n",
       "19997  0  0  0  0  0  0  0  0  0  0  ...  0  0  0  1  0  0  0  0  0  0\n",
       "19999  1  0  0  0  0  0  0  0  0  0  ...  0  0  0  0  0  0  0  0  0  0\n",
       "\n",
       "[18668 rows x 26 columns]"
      ]
     },
     "execution_count": 14,
     "metadata": {},
     "output_type": "execute_result"
    }
   ],
   "source": [
    "encoded_y"
   ]
  },
  {
   "cell_type": "code",
   "execution_count": 15,
   "id": "be5755fc",
   "metadata": {
    "id": "be5755fc"
   },
   "outputs": [],
   "source": [
    "encoded_y.replace({True:1 , False :0} ,inplace = True)"
   ]
  },
  {
   "cell_type": "code",
   "execution_count": 16,
   "id": "efb7028c",
   "metadata": {
    "colab": {
     "base_uri": "https://localhost:8080/",
     "height": 423
    },
    "id": "efb7028c",
    "outputId": "997cc138-2b59-46fc-af0b-fff77df71c8f"
   },
   "outputs": [
    {
     "data": {
      "text/html": [
       "<div>\n",
       "<style scoped>\n",
       "    .dataframe tbody tr th:only-of-type {\n",
       "        vertical-align: middle;\n",
       "    }\n",
       "\n",
       "    .dataframe tbody tr th {\n",
       "        vertical-align: top;\n",
       "    }\n",
       "\n",
       "    .dataframe thead th {\n",
       "        text-align: right;\n",
       "    }\n",
       "</style>\n",
       "<table border=\"1\" class=\"dataframe\">\n",
       "  <thead>\n",
       "    <tr style=\"text-align: right;\">\n",
       "      <th></th>\n",
       "      <th>A</th>\n",
       "      <th>B</th>\n",
       "      <th>C</th>\n",
       "      <th>D</th>\n",
       "      <th>E</th>\n",
       "      <th>F</th>\n",
       "      <th>G</th>\n",
       "      <th>H</th>\n",
       "      <th>I</th>\n",
       "      <th>J</th>\n",
       "      <th>...</th>\n",
       "      <th>Q</th>\n",
       "      <th>R</th>\n",
       "      <th>S</th>\n",
       "      <th>T</th>\n",
       "      <th>U</th>\n",
       "      <th>V</th>\n",
       "      <th>W</th>\n",
       "      <th>X</th>\n",
       "      <th>Y</th>\n",
       "      <th>Z</th>\n",
       "    </tr>\n",
       "  </thead>\n",
       "  <tbody>\n",
       "    <tr>\n",
       "      <th>0</th>\n",
       "      <td>0</td>\n",
       "      <td>0</td>\n",
       "      <td>0</td>\n",
       "      <td>0</td>\n",
       "      <td>0</td>\n",
       "      <td>0</td>\n",
       "      <td>0</td>\n",
       "      <td>0</td>\n",
       "      <td>0</td>\n",
       "      <td>0</td>\n",
       "      <td>...</td>\n",
       "      <td>0</td>\n",
       "      <td>0</td>\n",
       "      <td>0</td>\n",
       "      <td>1</td>\n",
       "      <td>0</td>\n",
       "      <td>0</td>\n",
       "      <td>0</td>\n",
       "      <td>0</td>\n",
       "      <td>0</td>\n",
       "      <td>0</td>\n",
       "    </tr>\n",
       "    <tr>\n",
       "      <th>1</th>\n",
       "      <td>0</td>\n",
       "      <td>0</td>\n",
       "      <td>0</td>\n",
       "      <td>0</td>\n",
       "      <td>0</td>\n",
       "      <td>0</td>\n",
       "      <td>0</td>\n",
       "      <td>0</td>\n",
       "      <td>1</td>\n",
       "      <td>0</td>\n",
       "      <td>...</td>\n",
       "      <td>0</td>\n",
       "      <td>0</td>\n",
       "      <td>0</td>\n",
       "      <td>0</td>\n",
       "      <td>0</td>\n",
       "      <td>0</td>\n",
       "      <td>0</td>\n",
       "      <td>0</td>\n",
       "      <td>0</td>\n",
       "      <td>0</td>\n",
       "    </tr>\n",
       "    <tr>\n",
       "      <th>2</th>\n",
       "      <td>0</td>\n",
       "      <td>0</td>\n",
       "      <td>0</td>\n",
       "      <td>1</td>\n",
       "      <td>0</td>\n",
       "      <td>0</td>\n",
       "      <td>0</td>\n",
       "      <td>0</td>\n",
       "      <td>0</td>\n",
       "      <td>0</td>\n",
       "      <td>...</td>\n",
       "      <td>0</td>\n",
       "      <td>0</td>\n",
       "      <td>0</td>\n",
       "      <td>0</td>\n",
       "      <td>0</td>\n",
       "      <td>0</td>\n",
       "      <td>0</td>\n",
       "      <td>0</td>\n",
       "      <td>0</td>\n",
       "      <td>0</td>\n",
       "    </tr>\n",
       "    <tr>\n",
       "      <th>3</th>\n",
       "      <td>0</td>\n",
       "      <td>0</td>\n",
       "      <td>0</td>\n",
       "      <td>0</td>\n",
       "      <td>0</td>\n",
       "      <td>0</td>\n",
       "      <td>0</td>\n",
       "      <td>0</td>\n",
       "      <td>0</td>\n",
       "      <td>0</td>\n",
       "      <td>...</td>\n",
       "      <td>0</td>\n",
       "      <td>0</td>\n",
       "      <td>0</td>\n",
       "      <td>0</td>\n",
       "      <td>0</td>\n",
       "      <td>0</td>\n",
       "      <td>0</td>\n",
       "      <td>0</td>\n",
       "      <td>0</td>\n",
       "      <td>0</td>\n",
       "    </tr>\n",
       "    <tr>\n",
       "      <th>4</th>\n",
       "      <td>0</td>\n",
       "      <td>0</td>\n",
       "      <td>0</td>\n",
       "      <td>0</td>\n",
       "      <td>0</td>\n",
       "      <td>0</td>\n",
       "      <td>1</td>\n",
       "      <td>0</td>\n",
       "      <td>0</td>\n",
       "      <td>0</td>\n",
       "      <td>...</td>\n",
       "      <td>0</td>\n",
       "      <td>0</td>\n",
       "      <td>0</td>\n",
       "      <td>0</td>\n",
       "      <td>0</td>\n",
       "      <td>0</td>\n",
       "      <td>0</td>\n",
       "      <td>0</td>\n",
       "      <td>0</td>\n",
       "      <td>0</td>\n",
       "    </tr>\n",
       "    <tr>\n",
       "      <th>...</th>\n",
       "      <td>...</td>\n",
       "      <td>...</td>\n",
       "      <td>...</td>\n",
       "      <td>...</td>\n",
       "      <td>...</td>\n",
       "      <td>...</td>\n",
       "      <td>...</td>\n",
       "      <td>...</td>\n",
       "      <td>...</td>\n",
       "      <td>...</td>\n",
       "      <td>...</td>\n",
       "      <td>...</td>\n",
       "      <td>...</td>\n",
       "      <td>...</td>\n",
       "      <td>...</td>\n",
       "      <td>...</td>\n",
       "      <td>...</td>\n",
       "      <td>...</td>\n",
       "      <td>...</td>\n",
       "      <td>...</td>\n",
       "      <td>...</td>\n",
       "    </tr>\n",
       "    <tr>\n",
       "      <th>19994</th>\n",
       "      <td>0</td>\n",
       "      <td>0</td>\n",
       "      <td>0</td>\n",
       "      <td>0</td>\n",
       "      <td>0</td>\n",
       "      <td>0</td>\n",
       "      <td>0</td>\n",
       "      <td>0</td>\n",
       "      <td>0</td>\n",
       "      <td>0</td>\n",
       "      <td>...</td>\n",
       "      <td>0</td>\n",
       "      <td>0</td>\n",
       "      <td>0</td>\n",
       "      <td>1</td>\n",
       "      <td>0</td>\n",
       "      <td>0</td>\n",
       "      <td>0</td>\n",
       "      <td>0</td>\n",
       "      <td>0</td>\n",
       "      <td>0</td>\n",
       "    </tr>\n",
       "    <tr>\n",
       "      <th>19995</th>\n",
       "      <td>0</td>\n",
       "      <td>0</td>\n",
       "      <td>0</td>\n",
       "      <td>1</td>\n",
       "      <td>0</td>\n",
       "      <td>0</td>\n",
       "      <td>0</td>\n",
       "      <td>0</td>\n",
       "      <td>0</td>\n",
       "      <td>0</td>\n",
       "      <td>...</td>\n",
       "      <td>0</td>\n",
       "      <td>0</td>\n",
       "      <td>0</td>\n",
       "      <td>0</td>\n",
       "      <td>0</td>\n",
       "      <td>0</td>\n",
       "      <td>0</td>\n",
       "      <td>0</td>\n",
       "      <td>0</td>\n",
       "      <td>0</td>\n",
       "    </tr>\n",
       "    <tr>\n",
       "      <th>19996</th>\n",
       "      <td>0</td>\n",
       "      <td>0</td>\n",
       "      <td>1</td>\n",
       "      <td>0</td>\n",
       "      <td>0</td>\n",
       "      <td>0</td>\n",
       "      <td>0</td>\n",
       "      <td>0</td>\n",
       "      <td>0</td>\n",
       "      <td>0</td>\n",
       "      <td>...</td>\n",
       "      <td>0</td>\n",
       "      <td>0</td>\n",
       "      <td>0</td>\n",
       "      <td>0</td>\n",
       "      <td>0</td>\n",
       "      <td>0</td>\n",
       "      <td>0</td>\n",
       "      <td>0</td>\n",
       "      <td>0</td>\n",
       "      <td>0</td>\n",
       "    </tr>\n",
       "    <tr>\n",
       "      <th>19997</th>\n",
       "      <td>0</td>\n",
       "      <td>0</td>\n",
       "      <td>0</td>\n",
       "      <td>0</td>\n",
       "      <td>0</td>\n",
       "      <td>0</td>\n",
       "      <td>0</td>\n",
       "      <td>0</td>\n",
       "      <td>0</td>\n",
       "      <td>0</td>\n",
       "      <td>...</td>\n",
       "      <td>0</td>\n",
       "      <td>0</td>\n",
       "      <td>0</td>\n",
       "      <td>1</td>\n",
       "      <td>0</td>\n",
       "      <td>0</td>\n",
       "      <td>0</td>\n",
       "      <td>0</td>\n",
       "      <td>0</td>\n",
       "      <td>0</td>\n",
       "    </tr>\n",
       "    <tr>\n",
       "      <th>19999</th>\n",
       "      <td>1</td>\n",
       "      <td>0</td>\n",
       "      <td>0</td>\n",
       "      <td>0</td>\n",
       "      <td>0</td>\n",
       "      <td>0</td>\n",
       "      <td>0</td>\n",
       "      <td>0</td>\n",
       "      <td>0</td>\n",
       "      <td>0</td>\n",
       "      <td>...</td>\n",
       "      <td>0</td>\n",
       "      <td>0</td>\n",
       "      <td>0</td>\n",
       "      <td>0</td>\n",
       "      <td>0</td>\n",
       "      <td>0</td>\n",
       "      <td>0</td>\n",
       "      <td>0</td>\n",
       "      <td>0</td>\n",
       "      <td>0</td>\n",
       "    </tr>\n",
       "  </tbody>\n",
       "</table>\n",
       "<p>18668 rows × 26 columns</p>\n",
       "</div>"
      ],
      "text/plain": [
       "       A  B  C  D  E  F  G  H  I  J  ...  Q  R  S  T  U  V  W  X  Y  Z\n",
       "0      0  0  0  0  0  0  0  0  0  0  ...  0  0  0  1  0  0  0  0  0  0\n",
       "1      0  0  0  0  0  0  0  0  1  0  ...  0  0  0  0  0  0  0  0  0  0\n",
       "2      0  0  0  1  0  0  0  0  0  0  ...  0  0  0  0  0  0  0  0  0  0\n",
       "3      0  0  0  0  0  0  0  0  0  0  ...  0  0  0  0  0  0  0  0  0  0\n",
       "4      0  0  0  0  0  0  1  0  0  0  ...  0  0  0  0  0  0  0  0  0  0\n",
       "...   .. .. .. .. .. .. .. .. .. ..  ... .. .. .. .. .. .. .. .. .. ..\n",
       "19994  0  0  0  0  0  0  0  0  0  0  ...  0  0  0  1  0  0  0  0  0  0\n",
       "19995  0  0  0  1  0  0  0  0  0  0  ...  0  0  0  0  0  0  0  0  0  0\n",
       "19996  0  0  1  0  0  0  0  0  0  0  ...  0  0  0  0  0  0  0  0  0  0\n",
       "19997  0  0  0  0  0  0  0  0  0  0  ...  0  0  0  1  0  0  0  0  0  0\n",
       "19999  1  0  0  0  0  0  0  0  0  0  ...  0  0  0  0  0  0  0  0  0  0\n",
       "\n",
       "[18668 rows x 26 columns]"
      ]
     },
     "execution_count": 16,
     "metadata": {},
     "output_type": "execute_result"
    }
   ],
   "source": [
    "encoded_y"
   ]
  },
  {
   "cell_type": "code",
   "execution_count": 17,
   "id": "c75c658e",
   "metadata": {
    "id": "c75c658e"
   },
   "outputs": [],
   "source": [
    "# splitting the data in training and test"
   ]
  },
  {
   "cell_type": "code",
   "execution_count": 18,
   "id": "47f21672",
   "metadata": {
    "id": "47f21672"
   },
   "outputs": [],
   "source": [
    "from sklearn.model_selection import train_test_split\n",
    "x_train ,x_test , y_train , y_test = train_test_split(scaled_x,encoded_y,test_size = 0.2 , random_state = 0)"
   ]
  },
  {
   "cell_type": "code",
   "execution_count": 24,
   "id": "87de12f1",
   "metadata": {
    "id": "87de12f1"
   },
   "outputs": [],
   "source": [
    "#building a artificial model"
   ]
  },
  {
   "cell_type": "code",
   "execution_count": 19,
   "id": "31264c1a",
   "metadata": {
    "colab": {
     "base_uri": "https://localhost:8080/"
    },
    "id": "31264c1a",
    "outputId": "a81829c5-8665-4240-d314-15b393bc2bfd"
   },
   "outputs": [
    {
     "data": {
      "text/plain": [
       "16"
      ]
     },
     "execution_count": 19,
     "metadata": {},
     "output_type": "execute_result"
    }
   ],
   "source": [
    "x_train.shape[1]"
   ]
  },
  {
   "cell_type": "code",
   "execution_count": 20,
   "id": "992f05eb",
   "metadata": {
    "id": "992f05eb"
   },
   "outputs": [],
   "source": [
    "import keras\n",
    "from keras.models import Sequential\n",
    "from keras.layers import Dense,Dropout"
   ]
  },
  {
   "cell_type": "code",
   "execution_count": 21,
   "id": "c3905ab1",
   "metadata": {
    "id": "c3905ab1"
   },
   "outputs": [],
   "source": [
    "Classifier = Sequential()"
   ]
  },
  {
   "cell_type": "code",
   "execution_count": 28,
   "id": "f3e4cdac",
   "metadata": {
    "id": "f3e4cdac"
   },
   "outputs": [],
   "source": [
    "#creating hidden layer"
   ]
  },
  {
   "cell_type": "code",
   "execution_count": 24,
   "id": "77131217",
   "metadata": {
    "colab": {
     "base_uri": "https://localhost:8080/"
    },
    "id": "77131217",
    "outputId": "464babee-ec3e-4a72-aa68-1e87b9fe6c5c"
   },
   "outputs": [],
   "source": [
    "model1 = Sequential([\n",
    "    Dense(12, activation='relu', input_shape=(x_train.shape[1],)),\n",
    "    Dense(26, activation='softmax')\n",
    "])\n",
    "\n",
    "# since its a multiclass classification problem so im using relu for hidden layer and softmax for output layer"
   ]
  },
  {
   "cell_type": "code",
   "execution_count": 25,
   "id": "5f0b9e27",
   "metadata": {
    "id": "5f0b9e27"
   },
   "outputs": [],
   "source": [
    "model1.compile(optimizer='adam', loss='categorical_crossentropy', metrics=['accuracy'])\n",
    "#I'm using adam optimizer bcz it uses both adagrad and rmsprop properties"
   ]
  },
  {
   "cell_type": "code",
   "execution_count": 26,
   "id": "7b3cd5f0",
   "metadata": {
    "colab": {
     "base_uri": "https://localhost:8080/"
    },
    "id": "7b3cd5f0",
    "outputId": "17d221d3-054f-47b0-f5ec-d4d164bce1f2"
   },
   "outputs": [
    {
     "name": "stdout",
     "output_type": "stream",
     "text": [
      "Epoch 1/20\n",
      "598/598 [==============================] - 3s 3ms/step - loss: 3.3158 - accuracy: 0.0378 - val_loss: 3.2782 - val_accuracy: 0.0449\n",
      "Epoch 2/20\n",
      "598/598 [==============================] - 2s 3ms/step - loss: 3.2690 - accuracy: 0.0386 - val_loss: 3.2664 - val_accuracy: 0.0442\n",
      "Epoch 3/20\n",
      "598/598 [==============================] - 2s 3ms/step - loss: 3.2589 - accuracy: 0.0411 - val_loss: 3.2631 - val_accuracy: 0.0459\n",
      "Epoch 4/20\n",
      "598/598 [==============================] - 2s 3ms/step - loss: 3.2543 - accuracy: 0.0422 - val_loss: 3.2621 - val_accuracy: 0.0415\n",
      "Epoch 5/20\n",
      "598/598 [==============================] - 2s 3ms/step - loss: 3.2514 - accuracy: 0.0436 - val_loss: 3.2612 - val_accuracy: 0.0462\n",
      "Epoch 6/20\n",
      "598/598 [==============================] - 2s 3ms/step - loss: 3.2495 - accuracy: 0.0480 - val_loss: 3.2618 - val_accuracy: 0.0475\n",
      "Epoch 7/20\n",
      "598/598 [==============================] - 2s 3ms/step - loss: 3.2478 - accuracy: 0.0506 - val_loss: 3.2622 - val_accuracy: 0.0479\n",
      "Epoch 8/20\n",
      "598/598 [==============================] - 2s 4ms/step - loss: 3.2460 - accuracy: 0.0507 - val_loss: 3.2633 - val_accuracy: 0.0459\n",
      "Epoch 9/20\n",
      "598/598 [==============================] - 2s 4ms/step - loss: 3.2448 - accuracy: 0.0515 - val_loss: 3.2646 - val_accuracy: 0.0442\n",
      "Epoch 10/20\n",
      "598/598 [==============================] - 2s 4ms/step - loss: 3.2437 - accuracy: 0.0527 - val_loss: 3.2653 - val_accuracy: 0.0435\n",
      "Epoch 11/20\n",
      "598/598 [==============================] - 2s 3ms/step - loss: 3.2426 - accuracy: 0.0526 - val_loss: 3.2659 - val_accuracy: 0.0432\n",
      "Epoch 12/20\n",
      "598/598 [==============================] - 2s 3ms/step - loss: 3.2417 - accuracy: 0.0523 - val_loss: 3.2676 - val_accuracy: 0.0405\n",
      "Epoch 13/20\n",
      "598/598 [==============================] - 2s 3ms/step - loss: 3.2406 - accuracy: 0.0547 - val_loss: 3.2676 - val_accuracy: 0.0415\n",
      "Epoch 14/20\n",
      "598/598 [==============================] - 2s 4ms/step - loss: 3.2399 - accuracy: 0.0529 - val_loss: 3.2688 - val_accuracy: 0.0402\n",
      "Epoch 15/20\n",
      "598/598 [==============================] - 2s 4ms/step - loss: 3.2389 - accuracy: 0.0529 - val_loss: 3.2702 - val_accuracy: 0.0408\n",
      "Epoch 16/20\n",
      "598/598 [==============================] - 2s 4ms/step - loss: 3.2384 - accuracy: 0.0521 - val_loss: 3.2720 - val_accuracy: 0.0405\n",
      "Epoch 17/20\n",
      "598/598 [==============================] - 2s 4ms/step - loss: 3.2377 - accuracy: 0.0545 - val_loss: 3.2721 - val_accuracy: 0.0412\n",
      "Epoch 18/20\n",
      "598/598 [==============================] - 2s 4ms/step - loss: 3.2373 - accuracy: 0.0531 - val_loss: 3.2732 - val_accuracy: 0.0408\n",
      "Epoch 19/20\n",
      "598/598 [==============================] - 2s 4ms/step - loss: 3.2368 - accuracy: 0.0549 - val_loss: 3.2738 - val_accuracy: 0.0418\n",
      "Epoch 20/20\n",
      "598/598 [==============================] - 2s 4ms/step - loss: 3.2362 - accuracy: 0.0563 - val_loss: 3.2743 - val_accuracy: 0.0429\n"
     ]
    }
   ],
   "source": [
    "training = model1.fit(x_train, encoded_y, epochs=20, batch_size=20, validation_split=0.2)"
   ]
  },
  {
   "cell_type": "code",
   "execution_count": 27,
   "id": "099d88ea",
   "metadata": {
    "colab": {
     "base_uri": "https://localhost:8080/"
    },
    "id": "099d88ea",
    "outputId": "76cab928-cb2e-4bbc-b974-37cdda6167b7"
   },
   "outputs": [
    {
     "name": "stdout",
     "output_type": "stream",
     "text": [
      "Epoch 1/20\n",
      "598/598 [==============================] - 3s 4ms/step - loss: 2.6552 - accuracy: 0.2506 - val_loss: 2.0351 - val_accuracy: 0.4275\n",
      "Epoch 2/20\n",
      "598/598 [==============================] - 2s 3ms/step - loss: 1.6420 - accuracy: 0.5426 - val_loss: 1.4219 - val_accuracy: 0.6210\n",
      "Epoch 3/20\n",
      "598/598 [==============================] - 2s 3ms/step - loss: 1.2766 - accuracy: 0.6427 - val_loss: 1.2085 - val_accuracy: 0.6712\n",
      "Epoch 4/20\n",
      "598/598 [==============================] - 2s 3ms/step - loss: 1.1333 - accuracy: 0.6731 - val_loss: 1.1024 - val_accuracy: 0.6910\n",
      "Epoch 5/20\n",
      "598/598 [==============================] - 2s 3ms/step - loss: 1.0537 - accuracy: 0.6908 - val_loss: 1.0384 - val_accuracy: 0.7118\n",
      "Epoch 6/20\n",
      "598/598 [==============================] - 2s 3ms/step - loss: 1.0012 - accuracy: 0.7040 - val_loss: 0.9943 - val_accuracy: 0.7218\n",
      "Epoch 7/20\n",
      "598/598 [==============================] - 2s 3ms/step - loss: 0.9630 - accuracy: 0.7138 - val_loss: 0.9642 - val_accuracy: 0.7312\n",
      "Epoch 8/20\n",
      "598/598 [==============================] - 2s 3ms/step - loss: 0.9325 - accuracy: 0.7234 - val_loss: 0.9371 - val_accuracy: 0.7335\n",
      "Epoch 9/20\n",
      "598/598 [==============================] - 2s 3ms/step - loss: 0.9091 - accuracy: 0.7275 - val_loss: 0.9158 - val_accuracy: 0.7422\n",
      "Epoch 10/20\n",
      "598/598 [==============================] - 2s 3ms/step - loss: 0.8885 - accuracy: 0.7360 - val_loss: 0.9021 - val_accuracy: 0.7516\n",
      "Epoch 11/20\n",
      "598/598 [==============================] - 2s 4ms/step - loss: 0.8728 - accuracy: 0.7416 - val_loss: 0.8825 - val_accuracy: 0.7523\n",
      "Epoch 12/20\n",
      "598/598 [==============================] - 3s 4ms/step - loss: 0.8579 - accuracy: 0.7445 - val_loss: 0.8707 - val_accuracy: 0.7503\n",
      "Epoch 13/20\n",
      "598/598 [==============================] - 2s 4ms/step - loss: 0.8456 - accuracy: 0.7476 - val_loss: 0.8621 - val_accuracy: 0.7580\n",
      "Epoch 14/20\n",
      "598/598 [==============================] - 2s 3ms/step - loss: 0.8343 - accuracy: 0.7503 - val_loss: 0.8516 - val_accuracy: 0.7590\n",
      "Epoch 15/20\n",
      "598/598 [==============================] - 2s 4ms/step - loss: 0.8251 - accuracy: 0.7543 - val_loss: 0.8435 - val_accuracy: 0.7580\n",
      "Epoch 16/20\n",
      "598/598 [==============================] - 2s 4ms/step - loss: 0.8156 - accuracy: 0.7542 - val_loss: 0.8416 - val_accuracy: 0.7596\n",
      "Epoch 17/20\n",
      "598/598 [==============================] - 2s 4ms/step - loss: 0.8077 - accuracy: 0.7569 - val_loss: 0.8312 - val_accuracy: 0.7640\n",
      "Epoch 18/20\n",
      "598/598 [==============================] - 2s 4ms/step - loss: 0.7999 - accuracy: 0.7595 - val_loss: 0.8262 - val_accuracy: 0.7646\n",
      "Epoch 19/20\n",
      "598/598 [==============================] - 2s 3ms/step - loss: 0.7939 - accuracy: 0.7620 - val_loss: 0.8228 - val_accuracy: 0.7633\n",
      "Epoch 20/20\n",
      "598/598 [==============================] - 2s 4ms/step - loss: 0.7874 - accuracy: 0.7629 - val_loss: 0.8177 - val_accuracy: 0.7687\n"
     ]
    }
   ],
   "source": [
    "training = model1.fit(x_train, y_train, epochs=20, batch_size=20, validation_split=0.2)"
   ]
  },
  {
   "cell_type": "code",
   "execution_count": 33,
   "id": "b743fea0",
   "metadata": {
    "id": "b743fea0"
   },
   "outputs": [],
   "source": [
    "#hyperparameter tuning"
   ]
  },
  {
   "cell_type": "code",
   "execution_count": 28,
   "id": "0fe35c3c",
   "metadata": {
    "colab": {
     "base_uri": "https://localhost:8080/"
    },
    "id": "0fe35c3c",
    "outputId": "5e05e88c-1344-446b-8e5c-eced2537d325"
   },
   "outputs": [
    {
     "name": "stdout",
     "output_type": "stream",
     "text": [
      "Epoch 1/20\n",
      "285/285 [==============================] - 2s 4ms/step - loss: 2.3336 - accuracy: 0.4044 - val_loss: 1.6394 - val_accuracy: 0.5912\n",
      "Epoch 2/20\n",
      "285/285 [==============================] - 1s 3ms/step - loss: 1.3311 - accuracy: 0.6587 - val_loss: 1.1543 - val_accuracy: 0.6960\n",
      "Epoch 3/20\n",
      "285/285 [==============================] - 1s 4ms/step - loss: 1.0245 - accuracy: 0.7192 - val_loss: 0.9646 - val_accuracy: 0.7308\n",
      "Epoch 4/20\n",
      "285/285 [==============================] - 1s 4ms/step - loss: 0.8776 - accuracy: 0.7523 - val_loss: 0.8573 - val_accuracy: 0.7626\n",
      "Epoch 5/20\n",
      "285/285 [==============================] - 1s 3ms/step - loss: 0.7862 - accuracy: 0.7754 - val_loss: 0.7899 - val_accuracy: 0.7740\n",
      "Epoch 6/20\n",
      "285/285 [==============================] - 1s 4ms/step - loss: 0.7204 - accuracy: 0.7924 - val_loss: 0.7333 - val_accuracy: 0.7965\n",
      "Epoch 7/20\n",
      "285/285 [==============================] - 1s 4ms/step - loss: 0.6679 - accuracy: 0.8100 - val_loss: 0.6910 - val_accuracy: 0.8072\n",
      "Epoch 8/20\n",
      "285/285 [==============================] - 1s 4ms/step - loss: 0.6261 - accuracy: 0.8215 - val_loss: 0.6573 - val_accuracy: 0.8155\n",
      "Epoch 9/20\n",
      "285/285 [==============================] - 1s 4ms/step - loss: 0.5899 - accuracy: 0.8327 - val_loss: 0.6264 - val_accuracy: 0.8219\n",
      "Epoch 10/20\n",
      "285/285 [==============================] - 1s 4ms/step - loss: 0.5592 - accuracy: 0.8398 - val_loss: 0.6002 - val_accuracy: 0.8296\n",
      "Epoch 11/20\n",
      "285/285 [==============================] - 1s 4ms/step - loss: 0.5320 - accuracy: 0.8448 - val_loss: 0.5806 - val_accuracy: 0.8343\n",
      "Epoch 12/20\n",
      "285/285 [==============================] - 1s 4ms/step - loss: 0.5089 - accuracy: 0.8524 - val_loss: 0.5582 - val_accuracy: 0.8366\n",
      "Epoch 13/20\n",
      "285/285 [==============================] - 1s 4ms/step - loss: 0.4883 - accuracy: 0.8587 - val_loss: 0.5407 - val_accuracy: 0.8390\n",
      "Epoch 14/20\n",
      "285/285 [==============================] - 1s 4ms/step - loss: 0.4695 - accuracy: 0.8635 - val_loss: 0.5278 - val_accuracy: 0.8423\n",
      "Epoch 15/20\n",
      "285/285 [==============================] - 1s 4ms/step - loss: 0.4530 - accuracy: 0.8683 - val_loss: 0.5121 - val_accuracy: 0.8473\n",
      "Epoch 16/20\n",
      "285/285 [==============================] - 1s 4ms/step - loss: 0.4375 - accuracy: 0.8713 - val_loss: 0.5006 - val_accuracy: 0.8497\n",
      "Epoch 17/20\n",
      "285/285 [==============================] - 1s 4ms/step - loss: 0.4239 - accuracy: 0.8766 - val_loss: 0.4875 - val_accuracy: 0.8514\n",
      "Epoch 18/20\n",
      "285/285 [==============================] - 1s 4ms/step - loss: 0.4112 - accuracy: 0.8796 - val_loss: 0.4763 - val_accuracy: 0.8544\n",
      "Epoch 19/20\n",
      "285/285 [==============================] - 1s 4ms/step - loss: 0.3991 - accuracy: 0.8831 - val_loss: 0.4674 - val_accuracy: 0.8594\n",
      "Epoch 20/20\n",
      "285/285 [==============================] - 1s 4ms/step - loss: 0.3883 - accuracy: 0.8862 - val_loss: 0.4553 - val_accuracy: 0.8634\n"
     ]
    }
   ],
   "source": [
    "model2 = Sequential([\n",
    "    Dense(56, activation='relu', input_shape=(x_train.shape[1],)),\n",
    "    Dense(26, activation='sigmoid')\n",
    "])\n",
    "model2.compile(optimizer='RMSprop', loss='categorical_crossentropy', metrics=['accuracy'])\n",
    "training = model2.fit(x_train, y_train, epochs=20, batch_size=42, validation_split=0.2)"
   ]
  },
  {
   "cell_type": "code",
   "execution_count": 29,
   "id": "f54a970b",
   "metadata": {
    "colab": {
     "base_uri": "https://localhost:8080/"
    },
    "id": "f54a970b",
    "outputId": "651dcca6-269f-49e7-eadb-e7e1444ae5f3"
   },
   "outputs": [
    {
     "name": "stdout",
     "output_type": "stream",
     "text": [
      "Epoch 1/20\n",
      "285/285 [==============================] - 2s 6ms/step - loss: 2.2056 - accuracy: 0.4176 - val_loss: 1.5708 - val_accuracy: 0.6110\n",
      "Epoch 2/20\n",
      "285/285 [==============================] - 1s 4ms/step - loss: 1.3273 - accuracy: 0.6707 - val_loss: 1.1699 - val_accuracy: 0.7081\n",
      "Epoch 3/20\n",
      "285/285 [==============================] - 1s 4ms/step - loss: 1.0738 - accuracy: 0.7238 - val_loss: 1.0147 - val_accuracy: 0.7305\n",
      "Epoch 4/20\n",
      "285/285 [==============================] - 1s 4ms/step - loss: 0.9579 - accuracy: 0.7489 - val_loss: 0.9265 - val_accuracy: 0.7539\n",
      "Epoch 5/20\n",
      "285/285 [==============================] - 1s 4ms/step - loss: 0.8848 - accuracy: 0.7630 - val_loss: 0.8704 - val_accuracy: 0.7673\n",
      "Epoch 6/20\n",
      "285/285 [==============================] - 1s 4ms/step - loss: 0.8321 - accuracy: 0.7753 - val_loss: 0.8318 - val_accuracy: 0.7727\n",
      "Epoch 7/20\n",
      "285/285 [==============================] - 1s 4ms/step - loss: 0.7900 - accuracy: 0.7837 - val_loss: 0.7958 - val_accuracy: 0.7831\n",
      "Epoch 8/20\n",
      "285/285 [==============================] - 1s 4ms/step - loss: 0.7552 - accuracy: 0.7917 - val_loss: 0.7660 - val_accuracy: 0.7871\n",
      "Epoch 9/20\n",
      "285/285 [==============================] - 1s 4ms/step - loss: 0.7235 - accuracy: 0.7983 - val_loss: 0.7432 - val_accuracy: 0.7898\n",
      "Epoch 10/20\n",
      "285/285 [==============================] - 1s 4ms/step - loss: 0.6961 - accuracy: 0.8045 - val_loss: 0.7211 - val_accuracy: 0.7911\n",
      "Epoch 11/20\n",
      "285/285 [==============================] - 1s 4ms/step - loss: 0.6698 - accuracy: 0.8134 - val_loss: 0.6968 - val_accuracy: 0.8001\n",
      "Epoch 12/20\n",
      "285/285 [==============================] - 1s 4ms/step - loss: 0.6458 - accuracy: 0.8195 - val_loss: 0.6792 - val_accuracy: 0.8045\n",
      "Epoch 13/20\n",
      "285/285 [==============================] - 1s 4ms/step - loss: 0.6234 - accuracy: 0.8232 - val_loss: 0.6581 - val_accuracy: 0.8105\n",
      "Epoch 14/20\n",
      "285/285 [==============================] - 1s 4ms/step - loss: 0.6036 - accuracy: 0.8294 - val_loss: 0.6400 - val_accuracy: 0.8102\n",
      "Epoch 15/20\n",
      "285/285 [==============================] - 1s 4ms/step - loss: 0.5838 - accuracy: 0.8346 - val_loss: 0.6251 - val_accuracy: 0.8199\n",
      "Epoch 16/20\n",
      "285/285 [==============================] - 1s 4ms/step - loss: 0.5656 - accuracy: 0.8373 - val_loss: 0.6077 - val_accuracy: 0.8239\n",
      "Epoch 17/20\n",
      "285/285 [==============================] - 1s 4ms/step - loss: 0.5490 - accuracy: 0.8421 - val_loss: 0.5962 - val_accuracy: 0.8262\n",
      "Epoch 18/20\n",
      "285/285 [==============================] - 1s 4ms/step - loss: 0.5325 - accuracy: 0.8463 - val_loss: 0.5811 - val_accuracy: 0.8289\n",
      "Epoch 19/20\n",
      "285/285 [==============================] - 1s 4ms/step - loss: 0.5179 - accuracy: 0.8501 - val_loss: 0.5676 - val_accuracy: 0.8343\n",
      "Epoch 20/20\n",
      "285/285 [==============================] - 1s 4ms/step - loss: 0.5045 - accuracy: 0.8550 - val_loss: 0.5570 - val_accuracy: 0.8353\n"
     ]
    }
   ],
   "source": [
    "model3 = Sequential([\n",
    "    Dense(56, activation='elu', input_shape=(x_train.shape[1],)),\n",
    "    Dense(26, activation='sigmoid')\n",
    "])\n",
    "model3.compile(optimizer='RMSprop', loss='categorical_crossentropy', metrics=['accuracy'])\n",
    "training = model3.fit(x_train, y_train, epochs=20, batch_size=42, validation_split=0.2)"
   ]
  },
  {
   "cell_type": "code",
   "execution_count": 30,
   "id": "8e16c1c5",
   "metadata": {
    "colab": {
     "base_uri": "https://localhost:8080/"
    },
    "id": "8e16c1c5",
    "outputId": "e20f5814-6b21-4268-e784-2e3e22aa937e"
   },
   "outputs": [
    {
     "name": "stdout",
     "output_type": "stream",
     "text": [
      "Epoch 1/20\n",
      "285/285 [==============================] - 2s 4ms/step - loss: 3.2523 - accuracy: 0.0562 - val_loss: 3.1602 - val_accuracy: 0.0817\n",
      "Epoch 2/20\n",
      "285/285 [==============================] - 1s 4ms/step - loss: 3.0851 - accuracy: 0.1111 - val_loss: 3.0276 - val_accuracy: 0.1299\n",
      "Epoch 3/20\n",
      "285/285 [==============================] - 1s 4ms/step - loss: 2.9686 - accuracy: 0.1510 - val_loss: 2.9269 - val_accuracy: 0.1640\n",
      "Epoch 4/20\n",
      "285/285 [==============================] - 1s 4ms/step - loss: 2.8767 - accuracy: 0.1862 - val_loss: 2.8446 - val_accuracy: 0.1928\n",
      "Epoch 5/20\n",
      "285/285 [==============================] - 1s 4ms/step - loss: 2.8000 - accuracy: 0.2115 - val_loss: 2.7745 - val_accuracy: 0.2176\n",
      "Epoch 6/20\n",
      "285/285 [==============================] - 1s 4ms/step - loss: 2.7338 - accuracy: 0.2340 - val_loss: 2.7133 - val_accuracy: 0.2343\n",
      "Epoch 7/20\n",
      "285/285 [==============================] - 1s 4ms/step - loss: 2.6754 - accuracy: 0.2522 - val_loss: 2.6588 - val_accuracy: 0.2581\n",
      "Epoch 8/20\n",
      "285/285 [==============================] - 1s 4ms/step - loss: 2.6230 - accuracy: 0.2733 - val_loss: 2.6096 - val_accuracy: 0.2752\n",
      "Epoch 9/20\n",
      "285/285 [==============================] - 2s 5ms/step - loss: 2.5756 - accuracy: 0.2918 - val_loss: 2.5648 - val_accuracy: 0.2916\n",
      "Epoch 10/20\n",
      "285/285 [==============================] - 1s 4ms/step - loss: 2.5322 - accuracy: 0.3089 - val_loss: 2.5235 - val_accuracy: 0.3083\n",
      "Epoch 11/20\n",
      "285/285 [==============================] - 1s 4ms/step - loss: 2.4922 - accuracy: 0.3238 - val_loss: 2.4854 - val_accuracy: 0.3214\n",
      "Epoch 12/20\n",
      "285/285 [==============================] - 1s 4ms/step - loss: 2.4551 - accuracy: 0.3370 - val_loss: 2.4500 - val_accuracy: 0.3381\n",
      "Epoch 13/20\n",
      "285/285 [==============================] - 1s 4ms/step - loss: 2.4205 - accuracy: 0.3510 - val_loss: 2.4168 - val_accuracy: 0.3495\n",
      "Epoch 14/20\n",
      "285/285 [==============================] - 1s 4ms/step - loss: 2.3881 - accuracy: 0.3646 - val_loss: 2.3858 - val_accuracy: 0.3589\n",
      "Epoch 15/20\n",
      "285/285 [==============================] - 1s 4ms/step - loss: 2.3577 - accuracy: 0.3762 - val_loss: 2.3565 - val_accuracy: 0.3729\n",
      "Epoch 16/20\n",
      "285/285 [==============================] - 1s 4ms/step - loss: 2.3291 - accuracy: 0.3870 - val_loss: 2.3288 - val_accuracy: 0.3833\n",
      "Epoch 17/20\n",
      "285/285 [==============================] - 1s 4ms/step - loss: 2.3020 - accuracy: 0.3987 - val_loss: 2.3027 - val_accuracy: 0.3924\n",
      "Epoch 18/20\n",
      "285/285 [==============================] - 1s 4ms/step - loss: 2.2763 - accuracy: 0.4097 - val_loss: 2.2778 - val_accuracy: 0.4048\n",
      "Epoch 19/20\n",
      "285/285 [==============================] - 1s 4ms/step - loss: 2.2519 - accuracy: 0.4191 - val_loss: 2.2542 - val_accuracy: 0.4145\n",
      "Epoch 20/20\n",
      "285/285 [==============================] - 1s 4ms/step - loss: 2.2287 - accuracy: 0.4294 - val_loss: 2.2317 - val_accuracy: 0.4262\n"
     ]
    }
   ],
   "source": [
    "model4 = Sequential([\n",
    "    Dense(56, activation='tanh', input_shape=(x_train.shape[1],)),\n",
    "    Dense(26, activation='sigmoid')\n",
    "])\n",
    "model4.compile(optimizer='ADAgrad', loss='categorical_crossentropy', metrics=['accuracy'])\n",
    "training = model4.fit(x_train, y_train, epochs=20, batch_size=42, validation_split=0.2)"
   ]
  },
  {
   "cell_type": "code",
   "execution_count": 37,
   "id": "eb2d56d2",
   "metadata": {
    "id": "eb2d56d2"
   },
   "outputs": [],
   "source": [
    "#evaluation"
   ]
  },
  {
   "cell_type": "code",
   "execution_count": 31,
   "id": "f5d3824a",
   "metadata": {
    "id": "f5d3824a"
   },
   "outputs": [],
   "source": [
    "import seaborn as sns\n",
    "import matplotlib.pyplot as plt"
   ]
  },
  {
   "cell_type": "code",
   "execution_count": 32,
   "id": "a7db7392",
   "metadata": {
    "id": "a7db7392"
   },
   "outputs": [],
   "source": [
    "from sklearn.metrics import accuracy_score, precision_score, recall_score, f1_score, confusion_matrix\n",
    "import numpy as np\n",
    "import matplotlib.pyplot as plt\n",
    "import seaborn as sns"
   ]
  },
  {
   "cell_type": "code",
   "execution_count": 33,
   "id": "71d93009",
   "metadata": {
    "colab": {
     "base_uri": "https://localhost:8080/",
     "height": 949
    },
    "id": "71d93009",
    "outputId": "180feda5-330c-4d6b-8682-5426ad74dfeb"
   },
   "outputs": [
    {
     "ename": "ValueError",
     "evalue": "Shape of passed values is (3734, 1), indices imply (3734, 26)",
     "output_type": "error",
     "traceback": [
      "\u001b[1;31m---------------------------------------------------------------------------\u001b[0m",
      "\u001b[1;31mValueError\u001b[0m                                Traceback (most recent call last)",
      "Cell \u001b[1;32mIn[33], line 4\u001b[0m\n\u001b[0;32m      2\u001b[0m \u001b[38;5;28;01mimport\u001b[39;00m \u001b[38;5;21;01mnumpy\u001b[39;00m \u001b[38;5;28;01mas\u001b[39;00m \u001b[38;5;21;01mnp\u001b[39;00m\n\u001b[0;32m      3\u001b[0m \u001b[38;5;66;03m# Get the true labels\u001b[39;00m\n\u001b[1;32m----> 4\u001b[0m y_true \u001b[38;5;241m=\u001b[39m np\u001b[38;5;241m.\u001b[39margmax(y_test,axis\u001b[38;5;241m=\u001b[39m\u001b[38;5;241m1\u001b[39m)\n\u001b[0;32m      6\u001b[0m \u001b[38;5;66;03m# Get the predicted labels\u001b[39;00m\n\u001b[0;32m      7\u001b[0m y_pred \u001b[38;5;241m=\u001b[39m np\u001b[38;5;241m.\u001b[39margmax(model1\u001b[38;5;241m.\u001b[39mpredict(x_test),axis\u001b[38;5;241m=\u001b[39m\u001b[38;5;241m1\u001b[39m)\n",
      "File \u001b[1;32m<__array_function__ internals>:200\u001b[0m, in \u001b[0;36margmax\u001b[1;34m(*args, **kwargs)\u001b[0m\n",
      "File \u001b[1;32mC:\\ProgramData\\anaconda3\\Lib\\site-packages\\numpy\\core\\fromnumeric.py:1242\u001b[0m, in \u001b[0;36margmax\u001b[1;34m(a, axis, out, keepdims)\u001b[0m\n\u001b[0;32m   1155\u001b[0m \u001b[38;5;250m\u001b[39m\u001b[38;5;124;03m\"\"\"\u001b[39;00m\n\u001b[0;32m   1156\u001b[0m \u001b[38;5;124;03mReturns the indices of the maximum values along an axis.\u001b[39;00m\n\u001b[0;32m   1157\u001b[0m \n\u001b[1;32m   (...)\u001b[0m\n\u001b[0;32m   1239\u001b[0m \u001b[38;5;124;03m(2, 1, 4)\u001b[39;00m\n\u001b[0;32m   1240\u001b[0m \u001b[38;5;124;03m\"\"\"\u001b[39;00m\n\u001b[0;32m   1241\u001b[0m kwds \u001b[38;5;241m=\u001b[39m {\u001b[38;5;124m'\u001b[39m\u001b[38;5;124mkeepdims\u001b[39m\u001b[38;5;124m'\u001b[39m: keepdims} \u001b[38;5;28;01mif\u001b[39;00m keepdims \u001b[38;5;129;01mis\u001b[39;00m \u001b[38;5;129;01mnot\u001b[39;00m np\u001b[38;5;241m.\u001b[39m_NoValue \u001b[38;5;28;01melse\u001b[39;00m {}\n\u001b[1;32m-> 1242\u001b[0m \u001b[38;5;28;01mreturn\u001b[39;00m _wrapfunc(a, \u001b[38;5;124m'\u001b[39m\u001b[38;5;124margmax\u001b[39m\u001b[38;5;124m'\u001b[39m, axis\u001b[38;5;241m=\u001b[39maxis, out\u001b[38;5;241m=\u001b[39mout, \u001b[38;5;241m*\u001b[39m\u001b[38;5;241m*\u001b[39mkwds)\n",
      "File \u001b[1;32mC:\\ProgramData\\anaconda3\\Lib\\site-packages\\numpy\\core\\fromnumeric.py:54\u001b[0m, in \u001b[0;36m_wrapfunc\u001b[1;34m(obj, method, *args, **kwds)\u001b[0m\n\u001b[0;32m     52\u001b[0m bound \u001b[38;5;241m=\u001b[39m \u001b[38;5;28mgetattr\u001b[39m(obj, method, \u001b[38;5;28;01mNone\u001b[39;00m)\n\u001b[0;32m     53\u001b[0m \u001b[38;5;28;01mif\u001b[39;00m bound \u001b[38;5;129;01mis\u001b[39;00m \u001b[38;5;28;01mNone\u001b[39;00m:\n\u001b[1;32m---> 54\u001b[0m     \u001b[38;5;28;01mreturn\u001b[39;00m _wrapit(obj, method, \u001b[38;5;241m*\u001b[39margs, \u001b[38;5;241m*\u001b[39m\u001b[38;5;241m*\u001b[39mkwds)\n\u001b[0;32m     56\u001b[0m \u001b[38;5;28;01mtry\u001b[39;00m:\n\u001b[0;32m     57\u001b[0m     \u001b[38;5;28;01mreturn\u001b[39;00m bound(\u001b[38;5;241m*\u001b[39margs, \u001b[38;5;241m*\u001b[39m\u001b[38;5;241m*\u001b[39mkwds)\n",
      "File \u001b[1;32mC:\\ProgramData\\anaconda3\\Lib\\site-packages\\numpy\\core\\fromnumeric.py:47\u001b[0m, in \u001b[0;36m_wrapit\u001b[1;34m(obj, method, *args, **kwds)\u001b[0m\n\u001b[0;32m     45\u001b[0m     \u001b[38;5;28;01mif\u001b[39;00m \u001b[38;5;129;01mnot\u001b[39;00m \u001b[38;5;28misinstance\u001b[39m(result, mu\u001b[38;5;241m.\u001b[39mndarray):\n\u001b[0;32m     46\u001b[0m         result \u001b[38;5;241m=\u001b[39m asarray(result)\n\u001b[1;32m---> 47\u001b[0m     result \u001b[38;5;241m=\u001b[39m wrap(result)\n\u001b[0;32m     48\u001b[0m \u001b[38;5;28;01mreturn\u001b[39;00m result\n",
      "File \u001b[1;32m~\\AppData\\Roaming\\Python\\Python311\\site-packages\\pandas\\core\\generic.py:2107\u001b[0m, in \u001b[0;36mNDFrame.__array_wrap__\u001b[1;34m(self, result, context)\u001b[0m\n\u001b[0;32m   2105\u001b[0m     \u001b[38;5;28;01mreturn\u001b[39;00m res\n\u001b[0;32m   2106\u001b[0m d \u001b[38;5;241m=\u001b[39m \u001b[38;5;28mself\u001b[39m\u001b[38;5;241m.\u001b[39m_construct_axes_dict(\u001b[38;5;28mself\u001b[39m\u001b[38;5;241m.\u001b[39m_AXIS_ORDERS, copy\u001b[38;5;241m=\u001b[39m\u001b[38;5;28;01mFalse\u001b[39;00m)\n\u001b[1;32m-> 2107\u001b[0m \u001b[38;5;28;01mreturn\u001b[39;00m \u001b[38;5;28mself\u001b[39m\u001b[38;5;241m.\u001b[39m_constructor(res, \u001b[38;5;241m*\u001b[39m\u001b[38;5;241m*\u001b[39md)\u001b[38;5;241m.\u001b[39m__finalize__(\u001b[38;5;28mself\u001b[39m, method\u001b[38;5;241m=\u001b[39m\u001b[38;5;124m\"\u001b[39m\u001b[38;5;124m__array_wrap__\u001b[39m\u001b[38;5;124m\"\u001b[39m)\n",
      "File \u001b[1;32m~\\AppData\\Roaming\\Python\\Python311\\site-packages\\pandas\\core\\frame.py:722\u001b[0m, in \u001b[0;36mDataFrame.__init__\u001b[1;34m(self, data, index, columns, dtype, copy)\u001b[0m\n\u001b[0;32m    712\u001b[0m         mgr \u001b[38;5;241m=\u001b[39m dict_to_mgr(\n\u001b[0;32m    713\u001b[0m             \u001b[38;5;66;03m# error: Item \"ndarray\" of \"Union[ndarray, Series, Index]\" has no\u001b[39;00m\n\u001b[0;32m    714\u001b[0m             \u001b[38;5;66;03m# attribute \"name\"\u001b[39;00m\n\u001b[1;32m   (...)\u001b[0m\n\u001b[0;32m    719\u001b[0m             typ\u001b[38;5;241m=\u001b[39mmanager,\n\u001b[0;32m    720\u001b[0m         )\n\u001b[0;32m    721\u001b[0m     \u001b[38;5;28;01melse\u001b[39;00m:\n\u001b[1;32m--> 722\u001b[0m         mgr \u001b[38;5;241m=\u001b[39m ndarray_to_mgr(\n\u001b[0;32m    723\u001b[0m             data,\n\u001b[0;32m    724\u001b[0m             index,\n\u001b[0;32m    725\u001b[0m             columns,\n\u001b[0;32m    726\u001b[0m             dtype\u001b[38;5;241m=\u001b[39mdtype,\n\u001b[0;32m    727\u001b[0m             copy\u001b[38;5;241m=\u001b[39mcopy,\n\u001b[0;32m    728\u001b[0m             typ\u001b[38;5;241m=\u001b[39mmanager,\n\u001b[0;32m    729\u001b[0m         )\n\u001b[0;32m    731\u001b[0m \u001b[38;5;66;03m# For data is list-like, or Iterable (will consume into list)\u001b[39;00m\n\u001b[0;32m    732\u001b[0m \u001b[38;5;28;01melif\u001b[39;00m is_list_like(data):\n",
      "File \u001b[1;32m~\\AppData\\Roaming\\Python\\Python311\\site-packages\\pandas\\core\\internals\\construction.py:349\u001b[0m, in \u001b[0;36mndarray_to_mgr\u001b[1;34m(values, index, columns, dtype, copy, typ)\u001b[0m\n\u001b[0;32m    344\u001b[0m \u001b[38;5;66;03m# _prep_ndarraylike ensures that values.ndim == 2 at this point\u001b[39;00m\n\u001b[0;32m    345\u001b[0m index, columns \u001b[38;5;241m=\u001b[39m _get_axes(\n\u001b[0;32m    346\u001b[0m     values\u001b[38;5;241m.\u001b[39mshape[\u001b[38;5;241m0\u001b[39m], values\u001b[38;5;241m.\u001b[39mshape[\u001b[38;5;241m1\u001b[39m], index\u001b[38;5;241m=\u001b[39mindex, columns\u001b[38;5;241m=\u001b[39mcolumns\n\u001b[0;32m    347\u001b[0m )\n\u001b[1;32m--> 349\u001b[0m _check_values_indices_shape_match(values, index, columns)\n\u001b[0;32m    351\u001b[0m \u001b[38;5;28;01mif\u001b[39;00m typ \u001b[38;5;241m==\u001b[39m \u001b[38;5;124m\"\u001b[39m\u001b[38;5;124marray\u001b[39m\u001b[38;5;124m\"\u001b[39m:\n\u001b[0;32m    353\u001b[0m     \u001b[38;5;28;01mif\u001b[39;00m \u001b[38;5;28missubclass\u001b[39m(values\u001b[38;5;241m.\u001b[39mdtype\u001b[38;5;241m.\u001b[39mtype, \u001b[38;5;28mstr\u001b[39m):\n",
      "File \u001b[1;32m~\\AppData\\Roaming\\Python\\Python311\\site-packages\\pandas\\core\\internals\\construction.py:420\u001b[0m, in \u001b[0;36m_check_values_indices_shape_match\u001b[1;34m(values, index, columns)\u001b[0m\n\u001b[0;32m    418\u001b[0m passed \u001b[38;5;241m=\u001b[39m values\u001b[38;5;241m.\u001b[39mshape\n\u001b[0;32m    419\u001b[0m implied \u001b[38;5;241m=\u001b[39m (\u001b[38;5;28mlen\u001b[39m(index), \u001b[38;5;28mlen\u001b[39m(columns))\n\u001b[1;32m--> 420\u001b[0m \u001b[38;5;28;01mraise\u001b[39;00m \u001b[38;5;167;01mValueError\u001b[39;00m(\u001b[38;5;124mf\u001b[39m\u001b[38;5;124m\"\u001b[39m\u001b[38;5;124mShape of passed values is \u001b[39m\u001b[38;5;132;01m{\u001b[39;00mpassed\u001b[38;5;132;01m}\u001b[39;00m\u001b[38;5;124m, indices imply \u001b[39m\u001b[38;5;132;01m{\u001b[39;00mimplied\u001b[38;5;132;01m}\u001b[39;00m\u001b[38;5;124m\"\u001b[39m)\n",
      "\u001b[1;31mValueError\u001b[0m: Shape of passed values is (3734, 1), indices imply (3734, 26)"
     ]
    }
   ],
   "source": [
    "from sklearn.metrics import accuracy_score, precision_score, recall_score, f1_score, confusion_matrix\n",
    "import numpy as np\n",
    "# Get the true labels\n",
    "y_true = np.argmax(y_test,axis=1)\n",
    "\n",
    "# Get the predicted labels\n",
    "y_pred = np.argmax(model1.predict(x_test),axis=1)\n",
    "\n",
    "accuracy = accuracy_score(y_true, y_pred)\n",
    "precision = precision_score(y_true, y_pred, average='weighted')\n",
    "recall = recall_score(y_true, y_pred, average='weighted')\n",
    "f1 = f1_score(y_true, y_pred, average='weighted')\n",
    "conf_matrix = confusion_matrix(y_true, y_pred)\n",
    "\n",
    "print(\"Model with relu , softmax and adam optimizer \")\n",
    "print(f\"Accuracy: {accuracy}\")\n",
    "print(f\"Precision: {precision}\")\n",
    "print(f\"Recall: {recall}\")\n",
    "print(f\"F1-score: {f1}\")\n",
    "\n",
    "plt.figure(figsize = (13,8))\n",
    "\n",
    "sns.heatmap(conf_matrix ,annot =True ,cmap = 'coolwarm',fmt='g')\n",
    "plt.show"
   ]
  },
  {
   "cell_type": "code",
   "execution_count": 41,
   "id": "4d9ca850",
   "metadata": {
    "colab": {
     "base_uri": "https://localhost:8080/"
    },
    "id": "4d9ca850",
    "outputId": "9e49a12c-17eb-4a44-fe94-1b5252208b70"
   },
   "outputs": [
    {
     "name": "stdout",
     "output_type": "stream",
     "text": [
      "\u001b[1m117/117\u001b[0m \u001b[32m━━━━━━━━━━━━━━━━━━━━\u001b[0m\u001b[37m\u001b[0m \u001b[1m0s\u001b[0m 1ms/step\n",
      "Model with relu , sigmoid and RMSprop\n",
      "Accuracy: 0.8658275307980717\n",
      "Precision: 0.8671533444727271\n",
      "Recall: 0.8658275307980717\n",
      "F1-score: 0.8657379792813392\n"
     ]
    }
   ],
   "source": [
    "y_true = np.argmax(y_test, axis=1)\n",
    "\n",
    "# Get the predicted labels\n",
    "y_pred = np.argmax(model2.predict(x_test), axis=1)\n",
    "\n",
    "accuracy = accuracy_score(y_true, y_pred)\n",
    "precision = precision_score(y_true, y_pred, average='weighted')\n",
    "recall = recall_score(y_true, y_pred, average='weighted')\n",
    "f1 = f1_score(y_true, y_pred, average='weighted')\n",
    "conf_matrix = confusion_matrix(y_true, y_pred)\n",
    "\n",
    "print(\"Model with relu , sigmoid and RMSprop\")\n",
    "print(f\"Accuracy: {accuracy}\")\n",
    "print(f\"Precision: {precision}\")\n",
    "print(f\"Recall: {recall}\")\n",
    "print(f\"F1-score: {f1}\")"
   ]
  },
  {
   "cell_type": "code",
   "execution_count": 41,
   "id": "f0fab493",
   "metadata": {
    "id": "f0fab493"
   },
   "outputs": [],
   "source": []
  }
 ],
 "metadata": {
  "colab": {
   "provenance": []
  },
  "kernelspec": {
   "display_name": "Python 3 (ipykernel)",
   "language": "python",
   "name": "python3"
  },
  "language_info": {
   "codemirror_mode": {
    "name": "ipython",
    "version": 3
   },
   "file_extension": ".py",
   "mimetype": "text/x-python",
   "name": "python",
   "nbconvert_exporter": "python",
   "pygments_lexer": "ipython3",
   "version": "3.11.5"
  }
 },
 "nbformat": 4,
 "nbformat_minor": 5
}
